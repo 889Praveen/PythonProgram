{
 "cells": [
  {
   "cell_type": "code",
   "execution_count": 23,
   "id": "670d3931",
   "metadata": {},
   "outputs": [
    {
     "name": "stdout",
     "output_type": "stream",
     "text": [
      "Price: 21\n",
      "Denominations: 1 2 5\n",
      "Can you form 21 exactly using 1 2 5 ?\n",
      "0 3 3\n",
      "0 8 1\n",
      "1 0 4\n",
      "1 5 2\n",
      "1 10 0\n",
      "2 2 3\n",
      "2 7 1\n",
      "3 4 2\n",
      "3 9 0\n",
      "4 1 3\n",
      "4 6 1\n",
      "5 3 2\n",
      "5 8 0\n",
      "6 0 3\n",
      "6 5 1\n",
      "7 2 2\n",
      "7 7 0\n",
      "8 4 1\n",
      "9 1 2\n",
      "9 6 0\n",
      "10 3 1\n",
      "11 0 2\n",
      "11 5 0\n",
      "12 2 1\n",
      "13 4 0\n",
      "14 1 1\n",
      "15 3 0\n",
      "16 0 1\n",
      "17 2 0\n",
      "19 1 0\n",
      "21 0 0\n"
     ]
    }
   ],
   "source": [
    "#Exact change :give a price identify  if you  have  exact change summing up to hat price? \n",
    "\n",
    "price = int(input('Price: ')) \n",
    "count=0\n",
    "deno1, deno2, deno3 = map(int, input('Denominations: ').split()) \n",
    "print(\"Can you form\", price, \"exactly using\", deno1, deno2, deno3, \"?\") \n",
    "for d1 in range(0, 1 + price // deno1): \n",
    "    for d2 in range(0, 1 + price // deno2): \n",
    "         for d3 in range(0, 1 + price // deno3): \n",
    "           if d1 * deno1 + d2 * deno2 + d3 * deno3 == price: \n",
    "                  print(d1, d2, d3)\n",
    "                  count=count+1\n",
    "if(count==0):\n",
    "    print(\"Combination is Not Faund..!\");"
   ]
  },
  {
   "cell_type": "code",
   "execution_count": null,
   "id": "ff4436eb",
   "metadata": {},
   "outputs": [],
   "source": []
  },
  {
   "cell_type": "code",
   "execution_count": null,
   "id": "4f02e39e",
   "metadata": {},
   "outputs": [],
   "source": []
  },
  {
   "cell_type": "code",
   "execution_count": null,
   "id": "f6eaa871",
   "metadata": {},
   "outputs": [],
   "source": []
  }
 ],
 "metadata": {
  "kernelspec": {
   "display_name": "Python 3 (ipykernel)",
   "language": "python",
   "name": "python3"
  },
  "language_info": {
   "codemirror_mode": {
    "name": "ipython",
    "version": 3
   },
   "file_extension": ".py",
   "mimetype": "text/x-python",
   "name": "python",
   "nbconvert_exporter": "python",
   "pygments_lexer": "ipython3",
   "version": "3.9.6"
  }
 },
 "nbformat": 4,
 "nbformat_minor": 5
}
